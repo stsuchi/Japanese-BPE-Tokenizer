{
 "cells": [
  {
   "cell_type": "markdown",
   "id": "4bc00a28",
   "metadata": {},
   "source": [
    "### how to train a tokenizer"
   ]
  },
  {
   "cell_type": "code",
   "execution_count": 1,
   "id": "09920105",
   "metadata": {},
   "outputs": [],
   "source": [
    "import sys\n",
    "sys.path.append('..')"
   ]
  },
  {
   "cell_type": "code",
   "execution_count": 3,
   "id": "514565a1",
   "metadata": {},
   "outputs": [],
   "source": [
    "from jpn_bpe_tokenizer import MecabBPETrainTokenizer"
   ]
  },
  {
   "cell_type": "markdown",
   "id": "263bcf5e",
   "metadata": {},
   "source": [
    "### Specify the text to use for training"
   ]
  },
  {
   "cell_type": "code",
   "execution_count": 7,
   "id": "d968c30c",
   "metadata": {},
   "outputs": [],
   "source": [
    "files = 'data/very_small_sample.txt'"
   ]
  },
  {
   "cell_type": "markdown",
   "id": "6ee3e93e",
   "metadata": {},
   "source": [
    "### Instntiate an tokenizer object"
   ]
  },
  {
   "cell_type": "code",
   "execution_count": 8,
   "id": "03905439",
   "metadata": {},
   "outputs": [],
   "source": [
    "tokenizer = MecabBPETrainTokenizer()"
   ]
  },
  {
   "cell_type": "markdown",
   "id": "3d8f5842",
   "metadata": {},
   "source": [
    "### Train"
   ]
  },
  {
   "cell_type": "code",
   "execution_count": 9,
   "id": "42035141",
   "metadata": {},
   "outputs": [],
   "source": [
    "tokenizer.train(files,\n",
    "                vocab_size=52000,\n",
    "                special_tokens=[\"<pad>\", \"<unk>\", \"<s>\", \"</s>\", \"<mask>\"])"
   ]
  },
  {
   "cell_type": "markdown",
   "id": "97226d8c",
   "metadata": {},
   "source": [
    "### Create a folder to save the trained config files"
   ]
  },
  {
   "cell_type": "code",
   "execution_count": 12,
   "id": "837261a4",
   "metadata": {},
   "outputs": [],
   "source": [
    "import os\n",
    "DIR = 'config_files'\n",
    "os.makedirs(DIR,exist_ok=True)\n"
   ]
  },
  {
   "cell_type": "markdown",
   "id": "08e688cd",
   "metadata": {},
   "source": [
    "### Save"
   ]
  },
  {
   "cell_type": "code",
   "execution_count": 13,
   "id": "710a50e5",
   "metadata": {},
   "outputs": [
    {
     "data": {
      "text/plain": [
       "['config_files/vocab.json', 'config_files/merges.txt']"
      ]
     },
     "execution_count": 13,
     "metadata": {},
     "output_type": "execute_result"
    }
   ],
   "source": [
    "tokenizer.save_model(DIR)"
   ]
  },
  {
   "cell_type": "code",
   "execution_count": null,
   "id": "6bc10834",
   "metadata": {},
   "outputs": [],
   "source": []
  }
 ],
 "metadata": {
  "kernelspec": {
   "display_name": "nlp",
   "language": "python",
   "name": "nlp"
  },
  "language_info": {
   "codemirror_mode": {
    "name": "ipython",
    "version": 3
   },
   "file_extension": ".py",
   "mimetype": "text/x-python",
   "name": "python",
   "nbconvert_exporter": "python",
   "pygments_lexer": "ipython3",
   "version": "3.8.8"
  }
 },
 "nbformat": 4,
 "nbformat_minor": 5
}
