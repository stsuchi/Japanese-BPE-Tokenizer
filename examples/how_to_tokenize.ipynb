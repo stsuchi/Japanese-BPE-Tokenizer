{
 "cells": [
  {
   "cell_type": "markdown",
   "id": "3813811e",
   "metadata": {},
   "source": [
    "### Load modules"
   ]
  },
  {
   "cell_type": "code",
   "execution_count": 27,
   "id": "87e795e5",
   "metadata": {},
   "outputs": [],
   "source": [
    "import sys\n",
    "sys.path.insert(0,'..')"
   ]
  },
  {
   "cell_type": "code",
   "execution_count": 28,
   "id": "9c36fc18",
   "metadata": {},
   "outputs": [],
   "source": [
    "from tokenizer.mecab_bpe_tokenizer import MecabBPETokenizer"
   ]
  },
  {
   "cell_type": "markdown",
   "id": "5fd36855",
   "metadata": {},
   "source": [
    "### Instantiate a tokenizer with vocab and merges files"
   ]
  },
  {
   "cell_type": "code",
   "execution_count": 29,
   "id": "8be59d01",
   "metadata": {},
   "outputs": [],
   "source": [
    "tokenizer = MecabBPETokenizer('bpe_files/vocab.json','bpe_files/merges.txt')"
   ]
  },
  {
   "cell_type": "markdown",
   "id": "82a32bc8",
   "metadata": {},
   "source": [
    "### example sentence "
   ]
  },
  {
   "cell_type": "code",
   "execution_count": 30,
   "id": "41f10028",
   "metadata": {},
   "outputs": [],
   "source": [
    "sentence = '現在主流の先端品の2～3世代先を行く製品で、ライバルの韓国サムスン電子との差をさらに広げ、最先端の半導体市場における独占状態が一段と強まりそうだ。'\n"
   ]
  },
  {
   "cell_type": "markdown",
   "id": "52544a9d",
   "metadata": {},
   "source": [
    "### tokenize the text"
   ]
  },
  {
   "cell_type": "code",
   "execution_count": 31,
   "id": "3c8c6c6c",
   "metadata": {},
   "outputs": [
    {
     "data": {
      "text/plain": [
       "['現在',\n",
       " '主流',\n",
       " 'の',\n",
       " '先端',\n",
       " '品',\n",
       " 'の',\n",
       " '2',\n",
       " '~',\n",
       " '3',\n",
       " '世代',\n",
       " '先',\n",
       " 'を',\n",
       " '行く',\n",
       " '製品',\n",
       " 'で',\n",
       " '、',\n",
       " 'ライバル',\n",
       " 'の',\n",
       " '韓国',\n",
       " 'サムスン',\n",
       " '電子',\n",
       " 'と',\n",
       " 'の',\n",
       " '差',\n",
       " 'を',\n",
       " 'さらに',\n",
       " '広げ',\n",
       " '、',\n",
       " '最',\n",
       " '先端',\n",
       " 'の',\n",
       " '半',\n",
       " '導体',\n",
       " '市場',\n",
       " 'に',\n",
       " 'おけ',\n",
       " 'る',\n",
       " '独占',\n",
       " '状態',\n",
       " 'が',\n",
       " '一段',\n",
       " 'と',\n",
       " '強',\n",
       " 'まり',\n",
       " 'そう',\n",
       " 'だ',\n",
       " '。']"
      ]
     },
     "execution_count": 31,
     "metadata": {},
     "output_type": "execute_result"
    }
   ],
   "source": [
    "tokenizer.tokenize(sentence)"
   ]
  },
  {
   "cell_type": "code",
   "execution_count": null,
   "id": "b1f22ec3",
   "metadata": {},
   "outputs": [],
   "source": []
  }
 ],
 "metadata": {
  "kernelspec": {
   "display_name": "nlp",
   "language": "python",
   "name": "nlp"
  },
  "language_info": {
   "codemirror_mode": {
    "name": "ipython",
    "version": 3
   },
   "file_extension": ".py",
   "mimetype": "text/x-python",
   "name": "python",
   "nbconvert_exporter": "python",
   "pygments_lexer": "ipython3",
   "version": "3.8.8"
  }
 },
 "nbformat": 4,
 "nbformat_minor": 5
}
